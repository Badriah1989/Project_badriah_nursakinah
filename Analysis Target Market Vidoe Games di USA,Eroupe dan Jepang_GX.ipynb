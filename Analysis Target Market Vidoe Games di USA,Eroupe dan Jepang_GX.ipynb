{
 "cells": [
  {
   "cell_type": "markdown",
   "metadata": {},
   "source": [
    "========================================================================================================================\n",
    "\n",
    "Milestone 3\n",
    "\n",
    "    Nama  : Badriah Nursakinah\n",
    "    Batch : FTDS-005-RBSD\n",
    "\n",
    "    This program aims to validate the dataset through testing whether it meets the Seventh Expectation of:\n",
    "- to be unique\n",
    "- to be between min_value and max_value\n",
    "- to be in set (rating,low,medium,high)\n",
    "- to be in type list \n",
    "- to be calculate total amount\n",
    "- to be Contain\n",
    "- to be Missing Value\n",
    "\n",
    "\n",
    "\n",
    "========================================================================================================================"
   ]
  },
  {
   "cell_type": "markdown",
   "metadata": {},
   "source": [
    "great expectation adalah memproses validasi data,,,"
   ]
  },
  {
   "cell_type": "markdown",
   "metadata": {},
   "source": [
    "### 1. Install Great Expectation Package"
   ]
  },
  {
   "cell_type": "code",
   "execution_count": 1,
   "metadata": {},
   "outputs": [],
   "source": [
    "# Install the library if you do not have it\n",
    "\n",
    "! pip install -q great-expectations"
   ]
  },
  {
   "cell_type": "markdown",
   "metadata": {},
   "source": [
    "install -q great-expectations sucsess"
   ]
  },
  {
   "cell_type": "markdown",
   "metadata": {},
   "source": [
    "### 2. Instantiate Data Context"
   ]
  },
  {
   "cell_type": "code",
   "execution_count": 2,
   "metadata": {},
   "outputs": [],
   "source": [
    "# Create a data context\n",
    "\n",
    "from great_expectations.data_context import FileDataContext\n",
    "\n",
    "context = FileDataContext.create(project_root_dir='./')"
   ]
  },
  {
   "cell_type": "markdown",
   "metadata": {},
   "source": [
    "### 3. Connect to A `Datasource`"
   ]
  },
  {
   "cell_type": "code",
   "execution_count": 4,
   "metadata": {},
   "outputs": [],
   "source": [
    "# Give a name to a Datasource. This name must be unique between Datasources.\n",
    "datasource_name = 'video_game_sales_datasource'\n",
    "datasource = context.sources.add_pandas(datasource_name)\n",
    "\n",
    "# Give a name to a data asset\n",
    "asset_name = 'Video Game Sales Report'\n",
    "path_to_data = 'P2M3_badriahnursakinah_data_clean.csv'\n",
    "asset = datasource.add_csv_asset(asset_name, filepath_or_buffer=path_to_data)\n",
    "\n",
    "# Build batch request\n",
    "batch_request = asset.build_batch_request()"
   ]
  },
  {
   "cell_type": "code",
   "execution_count": 5,
   "metadata": {},
   "outputs": [
    {
     "data": {
      "application/vnd.jupyter.widget-view+json": {
       "model_id": "8a57d8ee68d24af3aa9ecab5c0297803",
       "version_major": 2,
       "version_minor": 0
      },
      "text/plain": [
       "Calculating Metrics:   0%|          | 0/1 [00:00<?, ?it/s]"
      ]
     },
     "metadata": {},
     "output_type": "display_data"
    },
    {
     "data": {
      "text/html": [
       "<div>\n",
       "<style scoped>\n",
       "    .dataframe tbody tr th:only-of-type {\n",
       "        vertical-align: middle;\n",
       "    }\n",
       "\n",
       "    .dataframe tbody tr th {\n",
       "        vertical-align: top;\n",
       "    }\n",
       "\n",
       "    .dataframe thead th {\n",
       "        text-align: right;\n",
       "    }\n",
       "</style>\n",
       "<table border=\"1\" class=\"dataframe\">\n",
       "  <thead>\n",
       "    <tr style=\"text-align: right;\">\n",
       "      <th></th>\n",
       "      <th>rank</th>\n",
       "      <th>name</th>\n",
       "      <th>platform</th>\n",
       "      <th>year</th>\n",
       "      <th>genre</th>\n",
       "      <th>publisher</th>\n",
       "      <th>na_sales</th>\n",
       "      <th>eu_sales</th>\n",
       "      <th>jp_sales</th>\n",
       "      <th>other_sales</th>\n",
       "      <th>global_sales</th>\n",
       "    </tr>\n",
       "  </thead>\n",
       "  <tbody>\n",
       "    <tr>\n",
       "      <th>0</th>\n",
       "      <td>1</td>\n",
       "      <td>Wii Sports</td>\n",
       "      <td>Wii</td>\n",
       "      <td>2006.0</td>\n",
       "      <td>Sports</td>\n",
       "      <td>Nintendo</td>\n",
       "      <td>41.49</td>\n",
       "      <td>29.02</td>\n",
       "      <td>3.77</td>\n",
       "      <td>8.46</td>\n",
       "      <td>82.74</td>\n",
       "    </tr>\n",
       "    <tr>\n",
       "      <th>1</th>\n",
       "      <td>2</td>\n",
       "      <td>Super Mario Bros.</td>\n",
       "      <td>NES</td>\n",
       "      <td>1985.0</td>\n",
       "      <td>Platform</td>\n",
       "      <td>Nintendo</td>\n",
       "      <td>29.08</td>\n",
       "      <td>3.58</td>\n",
       "      <td>6.81</td>\n",
       "      <td>0.77</td>\n",
       "      <td>40.24</td>\n",
       "    </tr>\n",
       "    <tr>\n",
       "      <th>2</th>\n",
       "      <td>3</td>\n",
       "      <td>Mario Kart Wii</td>\n",
       "      <td>Wii</td>\n",
       "      <td>2008.0</td>\n",
       "      <td>Racing</td>\n",
       "      <td>Nintendo</td>\n",
       "      <td>15.85</td>\n",
       "      <td>12.88</td>\n",
       "      <td>3.79</td>\n",
       "      <td>3.31</td>\n",
       "      <td>35.82</td>\n",
       "    </tr>\n",
       "    <tr>\n",
       "      <th>3</th>\n",
       "      <td>4</td>\n",
       "      <td>Wii Sports Resort</td>\n",
       "      <td>Wii</td>\n",
       "      <td>2009.0</td>\n",
       "      <td>Sports</td>\n",
       "      <td>Nintendo</td>\n",
       "      <td>15.75</td>\n",
       "      <td>11.01</td>\n",
       "      <td>3.28</td>\n",
       "      <td>2.96</td>\n",
       "      <td>33.00</td>\n",
       "    </tr>\n",
       "    <tr>\n",
       "      <th>4</th>\n",
       "      <td>5</td>\n",
       "      <td>Pokemon Red/Pokemon Blue</td>\n",
       "      <td>GB</td>\n",
       "      <td>1996.0</td>\n",
       "      <td>Role-Playing</td>\n",
       "      <td>Nintendo</td>\n",
       "      <td>11.27</td>\n",
       "      <td>8.89</td>\n",
       "      <td>10.22</td>\n",
       "      <td>1.00</td>\n",
       "      <td>31.37</td>\n",
       "    </tr>\n",
       "  </tbody>\n",
       "</table>\n",
       "</div>"
      ],
      "text/plain": [
       "  rank                      name platform    year         genre publisher  \\\n",
       "0    1                Wii Sports      Wii  2006.0        Sports  Nintendo   \n",
       "1    2         Super Mario Bros.      NES  1985.0      Platform  Nintendo   \n",
       "2    3            Mario Kart Wii      Wii  2008.0        Racing  Nintendo   \n",
       "3    4         Wii Sports Resort      Wii  2009.0        Sports  Nintendo   \n",
       "4    5  Pokemon Red/Pokemon Blue       GB  1996.0  Role-Playing  Nintendo   \n",
       "\n",
       "   na_sales  eu_sales  jp_sales  other_sales  global_sales  \n",
       "0     41.49     29.02      3.77         8.46         82.74  \n",
       "1     29.08      3.58      6.81         0.77         40.24  \n",
       "2     15.85     12.88      3.79         3.31         35.82  \n",
       "3     15.75     11.01      3.28         2.96         33.00  \n",
       "4     11.27      8.89     10.22         1.00         31.37  "
      ]
     },
     "execution_count": 5,
     "metadata": {},
     "output_type": "execute_result"
    }
   ],
   "source": [
    "# Creat an expectation suite\n",
    "expectation_suite_name = 'expectation-trip-dataset'\n",
    "context.add_or_update_expectation_suite(expectation_suite_name)\n",
    "\n",
    "# Create a validator using above expectation suite\n",
    "validator = context.get_validator(\n",
    "    batch_request = batch_request,\n",
    "    expectation_suite_name = expectation_suite_name\n",
    ")\n",
    "\n",
    "# Check the validator\n",
    "validator.head()"
   ]
  },
  {
   "cell_type": "markdown",
   "metadata": {},
   "source": [
    "Displays success data"
   ]
  },
  {
   "cell_type": "markdown",
   "metadata": {},
   "source": [
    "### 4. Create an Expectation Suite"
   ]
  },
  {
   "cell_type": "markdown",
   "metadata": {},
   "source": [
    "-  ### A. Expectation `to be unique` pada pada kolom Video Game Sales Report"
   ]
  },
  {
   "cell_type": "code",
   "execution_count": 10,
   "metadata": {},
   "outputs": [
    {
     "data": {
      "application/vnd.jupyter.widget-view+json": {
       "model_id": "3c9f7ad4a5f74c2b99a59a30c6b7d191",
       "version_major": 2,
       "version_minor": 0
      },
      "text/plain": [
       "Calculating Metrics:   0%|          | 0/8 [00:00<?, ?it/s]"
      ]
     },
     "metadata": {},
     "output_type": "display_data"
    },
    {
     "data": {
      "text/plain": [
       "{\n",
       "  \"success\": true,\n",
       "  \"result\": {\n",
       "    \"element_count\": 16599,\n",
       "    \"unexpected_count\": 0,\n",
       "    \"unexpected_percent\": 0.0,\n",
       "    \"partial_unexpected_list\": [],\n",
       "    \"missing_count\": 0,\n",
       "    \"missing_percent\": 0.0,\n",
       "    \"unexpected_percent_total\": 0.0,\n",
       "    \"unexpected_percent_nonmissing\": 0.0\n",
       "  },\n",
       "  \"meta\": {},\n",
       "  \"exception_info\": {\n",
       "    \"raised_exception\": false,\n",
       "    \"exception_traceback\": null,\n",
       "    \"exception_message\": null\n",
       "  }\n",
       "}"
      ]
     },
     "execution_count": 10,
     "metadata": {},
     "output_type": "execute_result"
    }
   ],
   "source": [
    "# Expectation 1 : Column `rank` must be unique\n",
    "\n",
    "validator.expect_column_values_to_be_unique('rank')"
   ]
  },
  {
   "cell_type": "markdown",
   "metadata": {},
   "source": [
    "Insight for the result :Based on the results displayed, it can be concluded that:\n",
    "\n",
    "Element Count: There are 16599 elements or rows in the data.\n",
    "Unexpected Count: There are no unexpected values ​​in the data.\n",
    "Unexpected Percent: 0% of the values ​​in the data are unexpected values.\n",
    "Partial Unexpected List: There is no list of unexpected values.\n",
    "Missing Count: There are no missing or missing values ​​in the data.\n",
    "Missing Percent: 0% of the values ​​in the data are missing values.\n",
    "Unexpected Percent Total: 0% of the total values ​​in the data are unexpected values.\n",
    "Unexpected Percent Non-missing: 0% of the non-missing values ​​in the data are unexpected values.\n",
    "\n",
    "So, based on the analysis above, it can be concluded that the data does not have unexpected or missing values, and all values ​​in the rank column are unique, according to the expectations set in the code\n",
    "\n"
   ]
  },
  {
   "cell_type": "markdown",
   "metadata": {},
   "source": [
    "The reason for using the expectation to be unique in the 'rank' column, we can ensure that the video_game_sales_datasource dataset has good data integrity, accurate analysis, effective anomaly detection, and consistency with applicable business scenarios"
   ]
  },
  {
   "cell_type": "markdown",
   "metadata": {},
   "source": [
    " - ### B. Expectation `to be between min_value and max_value` pada kolom Video Game Sales Report"
   ]
  },
  {
   "cell_type": "code",
   "execution_count": 25,
   "metadata": {},
   "outputs": [
    {
     "data": {
      "application/vnd.jupyter.widget-view+json": {
       "model_id": "8b94f493b28b4c46b5c83dabe9c8b243",
       "version_major": 2,
       "version_minor": 0
      },
      "text/plain": [
       "Calculating Metrics:   0%|          | 0/8 [00:00<?, ?it/s]"
      ]
     },
     "metadata": {},
     "output_type": "display_data"
    },
    {
     "data": {
      "text/plain": [
       "{\n",
       "  \"success\": true,\n",
       "  \"result\": {\n",
       "    \"element_count\": 16599,\n",
       "    \"unexpected_count\": 0,\n",
       "    \"unexpected_percent\": 0.0,\n",
       "    \"partial_unexpected_list\": [],\n",
       "    \"missing_count\": 0,\n",
       "    \"missing_percent\": 0.0,\n",
       "    \"unexpected_percent_total\": 0.0,\n",
       "    \"unexpected_percent_nonmissing\": 0.0\n",
       "  },\n",
       "  \"meta\": {},\n",
       "  \"exception_info\": {\n",
       "    \"raised_exception\": false,\n",
       "    \"exception_traceback\": null,\n",
       "    \"exception_message\": null\n",
       "  }\n",
       "}"
      ]
     },
     "execution_count": 25,
     "metadata": {},
     "output_type": "execute_result"
    }
   ],
   "source": [
    "# Expectation 2 : Column `global_sales` must be less than $ 0.0 million\n",
    "\n",
    "validator.expect_column_values_to_be_between(\n",
    "    column='global_sales', min_value=0, max_value=82.74\n",
    ")"
   ]
  },
  {
   "cell_type": "markdown",
   "metadata": {},
   "source": [
    "Insight for the result From the results displayed, it can be concluded that:\n",
    "\n",
    "Element Count: There are 16599 elements or rows in the data.\n",
    "Unexpected Count: There are no unexpected values ​​in the data.\n",
    "Unexpected Percent: 0% of the values ​​in the data are unexpected values.\n",
    "Partial Unexpected List: There is no list of unexpected values.\n",
    "Missing Count: There are no missing or missing values ​​in the data.\n",
    "Missing Percent: 0% of the values ​​in the data are missing values.\n",
    "Unexpected Percent Total: 0% of the total values ​​in the data are unexpected values.\n",
    "Unexpected Percent Non-missing: 0% of the non-missing values ​​in the data are unexpected values. It can be said that all values ​​in the global_sales column are in line with expectations, namely less than $82.74 million.\n",
    "\n"
   ]
  },
  {
   "cell_type": "markdown",
   "metadata": {},
   "source": [
    "Reasons for using By using the expectation to be between min_value and max_value in the 'global_sales' column, it can be used as a preprocessing or data validation step"
   ]
  },
  {
   "cell_type": "markdown",
   "metadata": {},
   "source": [
    "- ### C. Expectation `to be in set` pada kolom Video Game Sales Report"
   ]
  },
  {
   "cell_type": "code",
   "execution_count": 26,
   "metadata": {},
   "outputs": [
    {
     "data": {
      "application/vnd.jupyter.widget-view+json": {
       "model_id": "5e4cbd16911c422b8d9f05b1d79e98c1",
       "version_major": 2,
       "version_minor": 0
      },
      "text/plain": [
       "Calculating Metrics:   0%|          | 0/8 [00:00<?, ?it/s]"
      ]
     },
     "metadata": {},
     "output_type": "display_data"
    },
    {
     "data": {
      "text/plain": [
       "{\n",
       "  \"success\": false,\n",
       "  \"result\": {\n",
       "    \"element_count\": 16599,\n",
       "    \"unexpected_count\": 1,\n",
       "    \"unexpected_percent\": 0.006024459304777396,\n",
       "    \"partial_unexpected_list\": [\n",
       "      \"0\"\n",
       "    ],\n",
       "    \"missing_count\": 0,\n",
       "    \"missing_percent\": 0.0,\n",
       "    \"unexpected_percent_total\": 0.006024459304777396,\n",
       "    \"unexpected_percent_nonmissing\": 0.006024459304777396\n",
       "  },\n",
       "  \"meta\": {},\n",
       "  \"exception_info\": {\n",
       "    \"raised_exception\": false,\n",
       "    \"exception_traceback\": null,\n",
       "    \"exception_message\": null\n",
       "  }\n",
       "}"
      ]
     },
     "execution_count": 26,
     "metadata": {},
     "output_type": "execute_result"
    }
   ],
   "source": [
    "# Expectation 3 : Column `genre` must contain\n",
    "\n",
    "validator.expect_column_values_to_be_in_set('platform', ['Wii','NES','GB','DS','X360','PS3','PS2','SNES','GBA', '3DS','PS4','N64','PS','XB','PC','2600','PSP','XOne','GC', 'WiiU', 'GEN','DC','PSV','SAT','SCD', 'WS', 'NG', 'TG16', '3DO', 'GG', 'PCFX'])\n",
    "\n",
    "# genre = salah\n",
    "# platform = salah"
   ]
  },
  {
   "cell_type": "markdown",
   "metadata": {},
   "source": [
    "Insight for the result From the results displayed, it can be concluded that: It is necessary to carry out further checks and analysis to find out the reason for the value \"0\" in the platform column which does not match expectations."
   ]
  },
  {
   "cell_type": "markdown",
   "metadata": {},
   "source": [
    "The reason for using Expectation `to be in set` in the platform column is to ensure consistency in platform naming. For example, ensuring there is no spelling difference between \"Playstation\" and \"PS\""
   ]
  },
  {
   "cell_type": "markdown",
   "metadata": {},
   "source": [
    "### D. Expectation `to be in type` pada kolom Video Game Sales Report"
   ]
  },
  {
   "cell_type": "code",
   "execution_count": 16,
   "metadata": {},
   "outputs": [
    {
     "data": {
      "application/vnd.jupyter.widget-view+json": {
       "model_id": "b68bdb53964549c0b8225025d07aec61",
       "version_major": 2,
       "version_minor": 0
      },
      "text/plain": [
       "Calculating Metrics:   0%|          | 0/1 [00:00<?, ?it/s]"
      ]
     },
     "metadata": {},
     "output_type": "display_data"
    },
    {
     "data": {
      "text/plain": [
       "{\n",
       "  \"success\": true,\n",
       "  \"result\": {\n",
       "    \"observed_value\": \"float64\"\n",
       "  },\n",
       "  \"meta\": {},\n",
       "  \"exception_info\": {\n",
       "    \"raised_exception\": false,\n",
       "    \"exception_traceback\": null,\n",
       "    \"exception_message\": null\n",
       "  }\n",
       "}"
      ]
     },
     "execution_count": 16,
     "metadata": {},
     "output_type": "execute_result"
    }
   ],
   "source": [
    "# Expectation 4 : Column `na_sales` must in form of integer or float (Sales in North America (in millions))\n",
    "\n",
    "validator.expect_column_values_to_be_in_type_list('na_sales', ['int64', 'float'])"
   ]
  },
  {
   "cell_type": "markdown",
   "metadata": {},
   "source": [
    "Insight for the result From the results displayed, it can be concluded that:\n",
    "\n",
    "Observed Value: The data type of the na_sales column is float64.\n",
    "Based on these results, it can be seen that the expectations set in the code\n",
    "validator.expect_column_values_to_be_in_type_list('na_sales', ['int64', 'float']) has been met.\n",
    "\n",
    "This means:\n",
    "\n",
    "The na_sales column contains values ​​in integer or float form, as expected.\n",
    "There are no values ​​in the na_sales column that deviate from the integer or float data type.\n",
    "So, it can be concluded that the na_sales column has met the specified expectations, namely containing values ​​in integer or float form.\n",
    "\n"
   ]
  },
  {
   "cell_type": "markdown",
   "metadata": {},
   "source": [
    "The reason for using Expectation `to be in type` in the 'na_sales' column which stores sales data in the North American,  markets which have numeric data types (such as float or decimal) so that they can be used correctly in analysis and calculations"
   ]
  },
  {
   "cell_type": "markdown",
   "metadata": {},
   "source": [
    "### E. Expectation `calculate total amount` pada kolom Video Game Sales Report"
   ]
  },
  {
   "cell_type": "code",
   "execution_count": 17,
   "metadata": {},
   "outputs": [
    {
     "data": {
      "application/vnd.jupyter.widget-view+json": {
       "model_id": "7d49dd8ff98d44a9b6990c18a1b6f2f2",
       "version_major": 2,
       "version_minor": 0
      },
      "text/plain": [
       "Calculating Metrics:   0%|          | 0/2 [00:00<?, ?it/s]"
      ]
     },
     "metadata": {},
     "output_type": "display_data"
    },
    {
     "data": {
      "text/plain": [
       "{\n",
       "  \"success\": true,\n",
       "  \"result\": {},\n",
       "  \"meta\": {},\n",
       "  \"exception_info\": {\n",
       "    \"raised_exception\": false,\n",
       "    \"exception_traceback\": null,\n",
       "    \"exception_message\": null\n",
       "  }\n",
       "}"
      ]
     },
     "execution_count": 17,
     "metadata": {},
     "output_type": "execute_result"
    }
   ],
   "source": [
    "# Expectation 5 : Column `jp_sales` must be exist to calculate Sales in Japan (in millions)\n",
    "validator.expect_column_to_exist(column='jp_sales')"
   ]
  },
  {
   "cell_type": "markdown",
   "metadata": {},
   "source": [
    "Insight for the result  From the results displayed, it can be concluded that:\n",
    "\n",
    "Success: The expectation specified in the code validator.expect_column_to_exist(column='jp_sales') has been met.\n",
    "This means:\n",
    "\n",
    "The jp_sales column exists and is present in the dataset.\n",
    "There are no problems or errors regarding the existence of the jp_sales column.\n",
    "So, it can be concluded that the jp_sales column already exists and is available in the dataset, so it can be used to calculate sales in Japan (in millions) according to expectations.\n",
    "\n"
   ]
  },
  {
   "cell_type": "markdown",
   "metadata": {},
   "source": [
    "The reason for using Expectation `calculate total amount` in the jp_sales column is to validate the completeness of the data by calculating total sales in the Japanese market"
   ]
  },
  {
   "cell_type": "markdown",
   "metadata": {},
   "source": [
    "### F. Expectation `Contain` pada kolom Video Game Sales Report"
   ]
  },
  {
   "cell_type": "code",
   "execution_count": 22,
   "metadata": {},
   "outputs": [
    {
     "data": {
      "application/vnd.jupyter.widget-view+json": {
       "model_id": "8a0ba5ac24ac469783495967eafa0454",
       "version_major": 2,
       "version_minor": 0
      },
      "text/plain": [
       "Calculating Metrics:   0%|          | 0/8 [00:00<?, ?it/s]"
      ]
     },
     "metadata": {},
     "output_type": "display_data"
    },
    {
     "data": {
      "text/plain": [
       "{\n",
       "  \"success\": false,\n",
       "  \"result\": {\n",
       "    \"element_count\": 16599,\n",
       "    \"unexpected_count\": 1,\n",
       "    \"unexpected_percent\": 0.006024459304777396,\n",
       "    \"partial_unexpected_list\": [\n",
       "      \"0\"\n",
       "    ],\n",
       "    \"missing_count\": 0,\n",
       "    \"missing_percent\": 0.0,\n",
       "    \"unexpected_percent_total\": 0.006024459304777396,\n",
       "    \"unexpected_percent_nonmissing\": 0.006024459304777396\n",
       "  },\n",
       "  \"meta\": {},\n",
       "  \"exception_info\": {\n",
       "    \"raised_exception\": false,\n",
       "    \"exception_traceback\": null,\n",
       "    \"exception_message\": null\n",
       "  }\n",
       "}"
      ]
     },
     "execution_count": 22,
     "metadata": {},
     "output_type": "execute_result"
    }
   ],
   "source": [
    "validator.expect_column_values_to_be_in_set('platform', ['Wii', 'NES', 'GB', 'DS', 'X360', 'PS3',\n",
    "       'PS2', 'SNES', 'GBA', '3DS', 'PS4', 'N64',\n",
    "       'PS', 'XB', 'PC', '2600', 'PSP', 'XOne',\n",
    "       'GC', 'WiiU', 'GEN', 'DC', 'PSV', 'SAT',\n",
    "       'SCD', 'WS', 'NG', 'TG16', '3DO', 'GG', 'PCFX'])\n",
    "\n",
    "       # genre = false\n",
    "       # publisher = false"
   ]
  },
  {
   "cell_type": "markdown",
   "metadata": {},
   "source": [
    "Insight for the result based on the results displayed, the following insights can be provided:\n",
    "\n",
    "Success: The expectation set in the code validator.expect_column_values_to_be_in_set('platform', [...]) was not met.\n",
    "Unexpected Count: There is 1 value that does not match expectations.\n",
    "Unexpected Percent: Values ​​that do not match expectations are only 0.006024459304777396% of the total data.\n",
    "Partial Unexpected List: Values ​​that do not match expectations are \"0\".\n",
    "Missing Count and Percent: There are no missing values ​​in the 'platform' column.\n",
    "From these results, it can be concluded that overall, the 'platform' column has met expectations well. There is only 1 value that does not match the set of expected values, but the percentage is very small (less than 1%).\n",
    "\n",
    "To handle the value \"0\" that does not match expectations, further investigation can be carried out to understand the meaning and context of this value in the dataset. If necessary, these values ​​can be considered for removal or replacement with more appropriate values.\n",
    "\n"
   ]
  },
  {
   "cell_type": "markdown",
   "metadata": {},
   "source": [
    "The reason for using Expectation `Contain` in the platform column is to ensure that the values ​​in the 'platform' column only contain the expected video game platform, such as 'PS4', 'Xbox One', 'Nintendo Switch', etc.\n",
    "\n"
   ]
  },
  {
   "cell_type": "markdown",
   "metadata": {},
   "source": [
    "### G. Expectation `Missing Value` pada kolom Video Game Sales Report"
   ]
  },
  {
   "cell_type": "code",
   "execution_count": 9,
   "metadata": {},
   "outputs": [
    {
     "data": {
      "application/vnd.jupyter.widget-view+json": {
       "model_id": "719cf913500e4e79acfe13d31af0d5e9",
       "version_major": 2,
       "version_minor": 0
      },
      "text/plain": [
       "Calculating Metrics:   0%|          | 0/6 [00:00<?, ?it/s]"
      ]
     },
     "metadata": {},
     "output_type": "display_data"
    },
    {
     "data": {
      "text/plain": [
       "{\n",
       "  \"success\": true,\n",
       "  \"result\": {\n",
       "    \"element_count\": 16599,\n",
       "    \"unexpected_count\": 0,\n",
       "    \"unexpected_percent\": 0.0,\n",
       "    \"partial_unexpected_list\": []\n",
       "  },\n",
       "  \"meta\": {},\n",
       "  \"exception_info\": {\n",
       "    \"raised_exception\": false,\n",
       "    \"exception_traceback\": null,\n",
       "    \"exception_message\": null\n",
       "  }\n",
       "}"
      ]
     },
     "execution_count": 9,
     "metadata": {},
     "output_type": "execute_result"
    }
   ],
   "source": [
    "# Expectation 7 : Column `year` can not contain missing values\n",
    "\n",
    "validator.expect_column_values_to_not_be_null('year')"
   ]
  },
  {
   "cell_type": "markdown",
   "metadata": {},
   "source": [
    "Insight for the result The 'year' column does not contain NULL/missing values.\n",
    "All data rows in the dataset have complete year values.\n",
    "The expectation that the 'year' column should not contain NULL/missing values ​​has been met.\n",
    "This shows that this dataset has good data completeness and quality in the 'year' column. There are no problems regarding the availability of year data in this dataset."
   ]
  },
  {
   "cell_type": "markdown",
   "metadata": {},
   "source": [
    "The reason for using Expectation `Missing Value` in the year column is that it can detect data errors where if there is a row of data that has an invalid or inappropriate year value, the Expectation `Missing Value' will mark this as \"missing value\""
   ]
  }
 ],
 "metadata": {
  "kernelspec": {
   "display_name": "base",
   "language": "python",
   "name": "python3"
  },
  "language_info": {
   "codemirror_mode": {
    "name": "ipython",
    "version": 3
   },
   "file_extension": ".py",
   "mimetype": "text/x-python",
   "name": "python",
   "nbconvert_exporter": "python",
   "pygments_lexer": "ipython3",
   "version": "3.10.13"
  }
 },
 "nbformat": 4,
 "nbformat_minor": 2
}
