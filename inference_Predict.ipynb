{
 "cells": [
  {
   "cell_type": "markdown",
   "metadata": {},
   "source": [
    "---\n",
    "\n",
    "Nama : Badriah Nursakinah\n",
    "\n",
    "Batch : BSD-005\n",
    "\n",
    "Hugging Face : https://huggingface.co/spaces/nursakinahbadriah/Customer_Churn_Records\n",
    "\n",
    "Data set : Customer-Churn-Records.csv\n",
    "\n",
    "---"
   ]
  },
  {
   "cell_type": "markdown",
   "metadata": {},
   "source": [
    "## 1.  Import Library\n",
    "\n",
    "Berikut merupakan beberapa libraries yang digunakan sebagai alat pendukung dalam proses analisa ini dan machine learning framework yang digunakan adalah `Scikit-Learn`"
   ]
  },
  {
   "cell_type": "code",
   "execution_count": 1,
   "metadata": {},
   "outputs": [],
   "source": [
    "#Import library\n",
    "\n",
    "import pandas as pd\n",
    "import numpy as np\n",
    "import pickle\n",
    "import json\n",
    "import warnings\n",
    "from sklearn.preprocessing import StandardScaler, OneHotEncoder  # Assuming these scalers/encoders are needed\n",
    "import pandas as pd\n",
    "import numpy as np\n",
    "from sklearn.preprocessing import StandardScaler, OneHotEncoder\n",
    "from sklearn.pipeline import make_pipeline, Pipeline\n",
    "\n"
   ]
  },
  {
   "cell_type": "markdown",
   "metadata": {},
   "source": [
    "---------------"
   ]
  },
  {
   "cell_type": "markdown",
   "metadata": {},
   "source": [
    "## 2. Load Data Files\n",
    "\n",
    "Beberapa file-file yang diambil untuk mendukung dari proses data loading ini berdasarkan dari  hasil proses `Model Saving`"
   ]
  },
  {
   "cell_type": "code",
   "execution_count": 2,
   "metadata": {},
   "outputs": [],
   "source": [
    "with open('best_svm_model.pkl', 'rb') as file_1:\n",
    "  list_cat_cols = pickle.load(file_1)"
   ]
  },
  {
   "cell_type": "markdown",
   "metadata": {},
   "source": [
    "----------------"
   ]
  },
  {
   "cell_type": "markdown",
   "metadata": {},
   "source": [
    "## 3. Load Data Yang Sudah Dibuat Untuk Random State Data Inference\n",
    "\n",
    "Menampilkan databaru yang didapat dari proses inference pada data di `Feature Engineer`"
   ]
  },
  {
   "cell_type": "code",
   "execution_count": 3,
   "metadata": {},
   "outputs": [
    {
     "data": {
      "text/html": [
       "<div>\n",
       "<style scoped>\n",
       "    .dataframe tbody tr th:only-of-type {\n",
       "        vertical-align: middle;\n",
       "    }\n",
       "\n",
       "    .dataframe tbody tr th {\n",
       "        vertical-align: top;\n",
       "    }\n",
       "\n",
       "    .dataframe thead th {\n",
       "        text-align: right;\n",
       "    }\n",
       "</style>\n",
       "<table border=\"1\" class=\"dataframe\">\n",
       "  <thead>\n",
       "    <tr style=\"text-align: right;\">\n",
       "      <th></th>\n",
       "      <th>Unnamed: 0</th>\n",
       "      <th>RowNumber</th>\n",
       "      <th>CustomerId</th>\n",
       "      <th>Surname</th>\n",
       "      <th>CreditScore</th>\n",
       "      <th>Geography</th>\n",
       "      <th>Gender</th>\n",
       "      <th>Age</th>\n",
       "      <th>Tenure</th>\n",
       "      <th>Balance</th>\n",
       "      <th>NumOfProducts</th>\n",
       "      <th>HasCrCard</th>\n",
       "      <th>IsActiveMember</th>\n",
       "      <th>EstimatedSalary</th>\n",
       "      <th>Exited</th>\n",
       "      <th>Complain</th>\n",
       "      <th>Satisfaction Score</th>\n",
       "      <th>Card Type</th>\n",
       "      <th>Point Earned</th>\n",
       "    </tr>\n",
       "  </thead>\n",
       "  <tbody>\n",
       "    <tr>\n",
       "      <th>0</th>\n",
       "      <td>0</td>\n",
       "      <td>9395</td>\n",
       "      <td>15615753</td>\n",
       "      <td>Upchurch</td>\n",
       "      <td>597</td>\n",
       "      <td>Germany</td>\n",
       "      <td>Female</td>\n",
       "      <td>35</td>\n",
       "      <td>8</td>\n",
       "      <td>131101.04</td>\n",
       "      <td>1</td>\n",
       "      <td>1</td>\n",
       "      <td>1</td>\n",
       "      <td>192852.67</td>\n",
       "      <td>0</td>\n",
       "      <td>0</td>\n",
       "      <td>3</td>\n",
       "      <td>SILVER</td>\n",
       "      <td>758</td>\n",
       "    </tr>\n",
       "  </tbody>\n",
       "</table>\n",
       "</div>"
      ],
      "text/plain": [
       "   Unnamed: 0  RowNumber  CustomerId   Surname  CreditScore Geography  Gender  \\\n",
       "0           0       9395    15615753  Upchurch          597   Germany  Female   \n",
       "\n",
       "   Age  Tenure    Balance  NumOfProducts  HasCrCard  IsActiveMember  \\\n",
       "0   35       8  131101.04              1          1               1   \n",
       "\n",
       "   EstimatedSalary  Exited  Complain  Satisfaction Score Card Type  \\\n",
       "0        192852.67       0         0                   3    SILVER   \n",
       "\n",
       "   Point Earned  \n",
       "0           758  "
      ]
     },
     "execution_count": 3,
     "metadata": {},
     "output_type": "execute_result"
    }
   ],
   "source": [
    "#Create new data\n",
    "data_inf = pd.read_csv('data_inf')\n",
    "data_inf"
   ]
  },
  {
   "cell_type": "markdown",
   "metadata": {},
   "source": [
    "---------------"
   ]
  },
  {
   "cell_type": "markdown",
   "metadata": {},
   "source": [
    "## 4. Load Data Yang Sudah Dibuat Untuk Random State Data Inference\n",
    "\n",
    "Membuat variabel inputan baru yang disesuikan berdasarkan model yang digunakan"
   ]
  },
  {
   "cell_type": "code",
   "execution_count": 4,
   "metadata": {},
   "outputs": [
    {
     "name": "stdout",
     "output_type": "stream",
     "text": [
      "churn_prediction: 0\n"
     ]
    }
   ],
   "source": [
    "y_pred_inf = list_cat_cols.predict(data_inf)\n",
    "\n",
    "print('churn_prediction:', (y_pred_inf[0]))"
   ]
  },
  {
   "cell_type": "markdown",
   "metadata": {},
   "source": [
    "-------------------"
   ]
  },
  {
   "cell_type": "markdown",
   "metadata": {},
   "source": [
    "## 5. Kesimpulan"
   ]
  },
  {
   "cell_type": "markdown",
   "metadata": {},
   "source": [
    "Dari hasil inferenece dengan nilai 0 Jika di tarik kesimpulan dan ditinjau pada studi kasus dalam memprediksi `Customer-Churn-Records` maka dapat dikatakan bahwa nasabah tidak akan melakuakn pemutusan jasa dari suatu bank yang dilakukan oleh nasabah, yang dikarenakan nasabah merasa bank lain mampu memberikan layanan yang lebih baik\n",
    "\n",
    "------"
   ]
  },
  {
   "cell_type": "markdown",
   "metadata": {},
   "source": [
    "### **Note** : \n",
    "\n",
    "`Mengingat pada boolean dimana jika 0 = False dan 1 = True atau 0 = No dan 1 = Yes`\n",
    "\n",
    "untuk dapat mengasumsikan hasil predict maka perlu dilihat nalam kolom targetnya, dimana pada kasus ini kolom target yaitu `Exited` dan hasil predict ny adalah 0 maka dapat dikatakan bahwa nasabah tidak akan melakuakn pemutusan jasa dari suatu bank yang dilakukan oleh nasabah, yang dikarenakan nasabah merasa bank lain mampu memberikan layanan yang lebih baik\n",
    "\n",
    "namun jika nama kolomnya `No Exited` dan hasil predictnya 0 maka dapat dikatakan bahwa nasabah akan melakuakn pemutusan jasa dari suatu bank yang dilakukan oleh nasabah, yang dikarenakan nasabah merasa bank lain mampu memberikan layanan yang lebih baik\n",
    "\n",
    "\n",
    "-----------"
   ]
  }
 ],
 "metadata": {
  "kernelspec": {
   "display_name": "base",
   "language": "python",
   "name": "python3"
  },
  "language_info": {
   "codemirror_mode": {
    "name": "ipython",
    "version": 3
   },
   "file_extension": ".py",
   "mimetype": "text/x-python",
   "name": "python",
   "nbconvert_exporter": "python",
   "pygments_lexer": "ipython3",
   "version": "3.10.13"
  }
 },
 "nbformat": 4,
 "nbformat_minor": 2
}
